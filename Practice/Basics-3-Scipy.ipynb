{
 "cells": [
  {
   "cell_type": "markdown",
   "metadata": {},
   "source": [
    "# SciPy - Library of scientific algorithms for Python"
   ]
  },
  {
   "cell_type": "markdown",
   "metadata": {},
   "source": [
    "Parts of this notebook have been taken from:\n",
    "\n",
    "[http://github.com/jrjohansson/scientific-python-lectures](http://github.com/jrjohansson/scientific-python-lectures).\n",
    "\n",
    "The other notebooks in this lecture series are indexed at [http://jrjohansson.github.io](http://jrjohansson.github.io)."
   ]
  },
  {
   "cell_type": "markdown",
   "metadata": {},
   "source": [
    "## Introduction"
   ]
  },
  {
   "cell_type": "markdown",
   "metadata": {},
   "source": [
    "The SciPy framework builds on top of the low-level NumPy framework for multidimensional arrays, and provides a large number of higher-level scientific algorithms. Some of the topics that SciPy covers are:\n",
    "\n",
    "* Special functions ([scipy.special](http://docs.scipy.org/doc/scipy/reference/special.html))\n",
    "* Integration ([scipy.integrate](http://docs.scipy.org/doc/scipy/reference/integrate.html))\n",
    "* Optimization ([scipy.optimize](http://docs.scipy.org/doc/scipy/reference/optimize.html))\n",
    "* Interpolation ([scipy.interpolate](http://docs.scipy.org/doc/scipy/reference/interpolate.html))\n",
    "* Fourier Transforms ([scipy.fftpack](http://docs.scipy.org/doc/scipy/reference/fftpack.html))\n",
    "* Signal Processing ([scipy.signal](http://docs.scipy.org/doc/scipy/reference/signal.html))\n",
    "* Linear Algebra ([scipy.linalg](http://docs.scipy.org/doc/scipy/reference/linalg.html))\n",
    "* Sparse Eigenvalue Problems ([scipy.sparse](http://docs.scipy.org/doc/scipy/reference/sparse.html))\n",
    "* Statistics ([scipy.stats](http://docs.scipy.org/doc/scipy/reference/stats.html))\n",
    "* Multi-dimensional image processing ([scipy.ndimage](http://docs.scipy.org/doc/scipy/reference/ndimage.html))\n",
    "* File IO ([scipy.io](http://docs.scipy.org/doc/scipy/reference/io.html))\n",
    "\n",
    "Each of these submodules provides a number of functions and classes that can be used to solve problems in their respective topics.\n",
    "\n",
    "In this lecture we will look at how to use some of these subpackages.\n",
    "\n",
    "To access the SciPy package in a Python program, we start by importing everything from the `scipy` module."
   ]
  },
  {
   "cell_type": "code",
   "execution_count": 1,
   "metadata": {},
   "outputs": [],
   "source": [
    "from scipy import *"
   ]
  },
  {
   "cell_type": "markdown",
   "metadata": {},
   "source": [
    "If we only need to use part of the SciPy framework we can selectively include only those modules we are interested in. For example, to include the linear algebra package under the name `la`, we can do:"
   ]
  },
  {
   "cell_type": "code",
   "execution_count": 2,
   "metadata": {},
   "outputs": [],
   "source": [
    "import scipy.linalg as la"
   ]
  },
  {
   "cell_type": "markdown",
   "metadata": {},
   "source": [
    "### Sparse matrices"
   ]
  },
  {
   "cell_type": "markdown",
   "metadata": {},
   "source": [
    "Sparse matrices are often useful in numerical simulations dealing with large systems, if the problem can be described in matrix form where the matrices or vectors mostly contains zeros. Scipy has a good support for sparse matrices, with basic linear algebra operations (such as equation solving, eigenvalue calculations, etc).\n",
    "\n",
    "There are many possible strategies for storing sparse matrices in an efficient way. Some of the most common are the so-called coordinate form (COO), list of list (LIL) form,  and compressed-sparse column CSC (and row, CSR). Each format has some advantanges and disadvantages. Most computational algorithms (equation solving, matrix-matrix multiplication, etc) can be efficiently implemented using CSR or CSC formats, but they are not so intuitive and not so easy to initialize. So often a sparse matrix is initially created in COO or LIL format (where we can efficiently add elements to the sparse matrix data), and then converted to CSC or CSR before used in real calcalations.\n",
    "\n",
    "For more information about these sparse formats, see e.g. http://en.wikipedia.org/wiki/Sparse_matrix\n",
    "\n",
    "When we create a sparse matrix we have to choose which format it should be stored in. For example, "
   ]
  },
  {
   "cell_type": "code",
   "execution_count": 3,
   "metadata": {},
   "outputs": [],
   "source": [
    "from scipy.sparse import *"
   ]
  },
  {
   "cell_type": "code",
   "execution_count": 4,
   "metadata": {},
   "outputs": [
    {
     "data": {
      "text/plain": [
       "array([[1, 0, 0, 0],\n",
       "       [0, 3, 0, 0],\n",
       "       [0, 1, 1, 0],\n",
       "       [1, 0, 0, 1]])"
      ]
     },
     "execution_count": 4,
     "metadata": {},
     "output_type": "execute_result"
    }
   ],
   "source": [
    "# dense matrix\n",
    "M = array([[1,0,0,0], [0,3,0,0], [0,1,1,0], [1,0,0,1]])\n",
    "M"
   ]
  },
  {
   "cell_type": "code",
   "execution_count": 5,
   "metadata": {},
   "outputs": [
    {
     "data": {
      "text/plain": [
       "<4x4 sparse matrix of type '<class 'numpy.int32'>'\n",
       "\twith 6 stored elements in Compressed Sparse Row format>"
      ]
     },
     "execution_count": 5,
     "metadata": {},
     "output_type": "execute_result"
    }
   ],
   "source": [
    "# convert from dense to sparse\n",
    "A = csr_matrix(M)\n",
    "A"
   ]
  },
  {
   "cell_type": "code",
   "execution_count": 6,
   "metadata": {},
   "outputs": [
    {
     "data": {
      "text/plain": [
       "matrix([[1, 0, 0, 0],\n",
       "        [0, 3, 0, 0],\n",
       "        [0, 1, 1, 0],\n",
       "        [1, 0, 0, 1]], dtype=int32)"
      ]
     },
     "execution_count": 6,
     "metadata": {},
     "output_type": "execute_result"
    }
   ],
   "source": [
    "# convert from sparse to dense\n",
    "A.todense()"
   ]
  },
  {
   "cell_type": "markdown",
   "metadata": {},
   "source": [
    "More efficient way to create sparse matrices: create an empty matrix and populate with using matrix indexing (avoids creating a potentially large dense matrix)"
   ]
  },
  {
   "cell_type": "code",
   "execution_count": 7,
   "metadata": {},
   "outputs": [
    {
     "data": {
      "text/plain": [
       "<4x4 sparse matrix of type '<class 'numpy.float64'>'\n",
       "\twith 6 stored elements in LInked List format>"
      ]
     },
     "execution_count": 7,
     "metadata": {},
     "output_type": "execute_result"
    }
   ],
   "source": [
    "A = lil_matrix((4,4)) # empty 4x4 sparse matrix\n",
    "A[0,0] = 1\n",
    "A[1,1] = 3\n",
    "A[2,2] = A[2,1] = 1\n",
    "A[3,3] = A[3,0] = 1\n",
    "A"
   ]
  },
  {
   "cell_type": "code",
   "execution_count": 8,
   "metadata": {},
   "outputs": [
    {
     "data": {
      "text/plain": [
       "matrix([[1., 0., 0., 0.],\n",
       "        [0., 3., 0., 0.],\n",
       "        [0., 1., 1., 0.],\n",
       "        [1., 0., 0., 1.]])"
      ]
     },
     "execution_count": 8,
     "metadata": {},
     "output_type": "execute_result"
    }
   ],
   "source": [
    "A.todense()"
   ]
  },
  {
   "cell_type": "markdown",
   "metadata": {},
   "source": [
    "### We can compute with sparse matrices like with dense matrices:"
   ]
  },
  {
   "cell_type": "code",
   "execution_count": 9,
   "metadata": {},
   "outputs": [
    {
     "data": {
      "text/plain": [
       "matrix([[1., 0., 0., 0.],\n",
       "        [0., 9., 0., 0.],\n",
       "        [0., 4., 1., 0.],\n",
       "        [2., 0., 0., 1.]])"
      ]
     },
     "execution_count": 9,
     "metadata": {},
     "output_type": "execute_result"
    }
   ],
   "source": [
    "(A * A).todense()"
   ]
  },
  {
   "cell_type": "code",
   "execution_count": 10,
   "metadata": {
    "scrolled": true
   },
   "outputs": [
    {
     "data": {
      "text/plain": [
       "matrix([[1., 0., 0., 0.],\n",
       "        [0., 9., 0., 0.],\n",
       "        [0., 4., 1., 0.],\n",
       "        [2., 0., 0., 1.]])"
      ]
     },
     "execution_count": 10,
     "metadata": {},
     "output_type": "execute_result"
    }
   ],
   "source": [
    "A.dot(A).todense()"
   ]
  },
  {
   "cell_type": "code",
   "execution_count": 11,
   "metadata": {},
   "outputs": [
    {
     "data": {
      "text/plain": [
       "matrix([[1., 0., 0., 0.],\n",
       "        [0., 9., 0., 0.],\n",
       "        [0., 1., 1., 0.],\n",
       "        [1., 0., 0., 1.]])"
      ]
     },
     "execution_count": 11,
     "metadata": {},
     "output_type": "execute_result"
    }
   ],
   "source": [
    "A.multiply(A).todense()"
   ]
  },
  {
   "cell_type": "markdown",
   "metadata": {},
   "source": [
    "## CSR, CSC and COO\n",
    "\n",
    "#### There are a few different formats in which your sparse matrix might be encoded\n"
   ]
  },
  {
   "cell_type": "markdown",
   "metadata": {},
   "source": [
    "#### COO - Coordinate format"
   ]
  },
  {
   "cell_type": "code",
   "execution_count": 12,
   "metadata": {},
   "outputs": [
    {
     "data": {
      "text/plain": [
       "<4x4 sparse matrix of type '<class 'numpy.float64'>'\n",
       "\twith 6 stored elements in COOrdinate format>"
      ]
     },
     "execution_count": 12,
     "metadata": {},
     "output_type": "execute_result"
    }
   ],
   "source": [
    "A_coo = coo_matrix(A)\n",
    "A_coo"
   ]
  },
  {
   "cell_type": "markdown",
   "metadata": {},
   "source": [
    "#### We have access to the inner data structure"
   ]
  },
  {
   "cell_type": "code",
   "execution_count": 13,
   "metadata": {},
   "outputs": [
    {
     "data": {
      "text/plain": [
       "array([0, 1, 2, 2, 3, 3], dtype=int32)"
      ]
     },
     "execution_count": 13,
     "metadata": {},
     "output_type": "execute_result"
    }
   ],
   "source": [
    "A_coo.row"
   ]
  },
  {
   "cell_type": "code",
   "execution_count": 14,
   "metadata": {},
   "outputs": [
    {
     "data": {
      "text/plain": [
       "array([0, 1, 1, 2, 0, 3], dtype=int32)"
      ]
     },
     "execution_count": 14,
     "metadata": {},
     "output_type": "execute_result"
    }
   ],
   "source": [
    "A_coo.col"
   ]
  },
  {
   "cell_type": "code",
   "execution_count": 15,
   "metadata": {},
   "outputs": [
    {
     "data": {
      "text/plain": [
       "array([1., 3., 1., 1., 1., 1.])"
      ]
     },
     "execution_count": 15,
     "metadata": {},
     "output_type": "execute_result"
    }
   ],
   "source": [
    "A_coo.data"
   ]
  },
  {
   "cell_type": "markdown",
   "metadata": {},
   "source": [
    "### The problem of this data structure is that we cannot efficiently index elements. How can we get the elements in row 3? We would have to loop the row field until we find the first 3, which is in position 5.\n",
    "### Too slow for matrices of even few hundred rows.\n",
    "\n",
    "### Wat if we had a pointer to the exact starting position of every row?\n",
    "\n",
    "### CSR - Compressed Sparse Row format"
   ]
  },
  {
   "cell_type": "code",
   "execution_count": 22,
   "metadata": {},
   "outputs": [
    {
     "data": {
      "text/plain": [
       "matrix([[1., 0., 0., 0.],\n",
       "        [0., 3., 0., 0.],\n",
       "        [0., 1., 1., 0.],\n",
       "        [1., 0., 0., 1.]])"
      ]
     },
     "execution_count": 22,
     "metadata": {},
     "output_type": "execute_result"
    }
   ],
   "source": [
    "A_csr = csr_matrix(A)\n",
    "A_csr.todense()"
   ]
  },
  {
   "cell_type": "code",
   "execution_count": 27,
   "metadata": {},
   "outputs": [
    {
     "data": {
      "text/plain": [
       "array([0, 1, 1, 2, 0, 3], dtype=int32)"
      ]
     },
     "execution_count": 27,
     "metadata": {},
     "output_type": "execute_result"
    }
   ],
   "source": [
    "A_csr.indices"
   ]
  },
  {
   "cell_type": "code",
   "execution_count": 28,
   "metadata": {},
   "outputs": [
    {
     "data": {
      "text/plain": [
       "array([0, 1, 2, 4, 6], dtype=int32)"
      ]
     },
     "execution_count": 28,
     "metadata": {},
     "output_type": "execute_result"
    }
   ],
   "source": [
    "A_csr.indptr"
   ]
  },
  {
   "cell_type": "code",
   "execution_count": 29,
   "metadata": {},
   "outputs": [
    {
     "data": {
      "text/plain": [
       "array([ 1.,  3.,  1.,  1.,  1.,  1.])"
      ]
     },
     "execution_count": 29,
     "metadata": {},
     "output_type": "execute_result"
    }
   ],
   "source": [
    "A_csr.data"
   ]
  },
  {
   "cell_type": "markdown",
   "metadata": {},
   "source": [
    "#### In this case\n",
    "* indices - Refers to the column index, same as .col in COO format\n",
    "* data - Refers to the value contained in the cell\n",
    "* indptr - It is a row-pointer. indptr[i] refers to the first cell in indices and data which contains elements of row i"
   ]
  },
  {
   "cell_type": "markdown",
   "metadata": {},
   "source": [
    "#### Let's extract row 3"
   ]
  },
  {
   "cell_type": "code",
   "execution_count": 30,
   "metadata": {
    "collapsed": true
   },
   "outputs": [],
   "source": [
    "target_row = 3\n",
    "\n",
    "row_start = A_csr.indptr[target_row]\n",
    "row_end = A_csr.indptr[target_row+1]"
   ]
  },
  {
   "cell_type": "code",
   "execution_count": 31,
   "metadata": {},
   "outputs": [
    {
     "data": {
      "text/plain": [
       "array([0, 3], dtype=int32)"
      ]
     },
     "execution_count": 31,
     "metadata": {},
     "output_type": "execute_result"
    }
   ],
   "source": [
    "row_columns = A_csr.indices[row_start:row_end]\n",
    "row_columns"
   ]
  },
  {
   "cell_type": "code",
   "execution_count": 32,
   "metadata": {},
   "outputs": [
    {
     "data": {
      "text/plain": [
       "array([ 1.,  1.])"
      ]
     },
     "execution_count": 32,
     "metadata": {},
     "output_type": "execute_result"
    }
   ],
   "source": [
    "row_data = A_csr.data[row_start:row_end]\n",
    "row_data"
   ]
  },
  {
   "cell_type": "markdown",
   "metadata": {},
   "source": [
    "#### Double check with the original matrix"
   ]
  },
  {
   "cell_type": "code",
   "execution_count": 34,
   "metadata": {},
   "outputs": [
    {
     "data": {
      "text/plain": [
       "array([1, 0, 0, 1])"
      ]
     },
     "execution_count": 34,
     "metadata": {},
     "output_type": "execute_result"
    }
   ],
   "source": [
    "M[target_row,:]"
   ]
  },
  {
   "cell_type": "markdown",
   "metadata": {},
   "source": [
    "## WARNING! \n",
    "### CSR is made for fast row access, CSC for fast column access. Don't mix them"
   ]
  },
  {
   "cell_type": "markdown",
   "metadata": {},
   "source": [
    "#### Let's compare the speeds"
   ]
  },
  {
   "cell_type": "code",
   "execution_count": 23,
   "metadata": {},
   "outputs": [
    {
     "data": {
      "text/plain": [
       "<10000x5000 sparse matrix of type '<class 'numpy.float64'>'\n",
       "\twith 2500000 stored elements in Compressed Sparse Row format>"
      ]
     },
     "execution_count": 23,
     "metadata": {},
     "output_type": "execute_result"
    }
   ],
   "source": [
    "big_matrix = random(10000, 5000, density=0.05, format='csr')\n",
    "big_matrix"
   ]
  },
  {
   "cell_type": "code",
   "execution_count": 27,
   "metadata": {},
   "outputs": [
    {
     "data": {
      "text/plain": [
       "array([0.48158777, 0.26279778, 0.22785258, 0.9834231 , 0.09575535,\n",
       "       0.07502896, 0.51277032, 0.24076645, 0.86490515, 0.30866677,\n",
       "       0.32410696, 0.40535904, 0.50848706, 0.07356762, 0.79752856,\n",
       "       0.32808428, 0.50976776, 0.11805698, 0.44395126, 0.87557661,\n",
       "       0.38543219, 0.12277451, 0.50086195, 0.15335249, 0.9675193 ,\n",
       "       0.23525772, 0.88261777, 0.70759041, 0.54191848, 0.46746676,\n",
       "       0.26858003, 0.15374325, 0.17510652, 0.46760334, 0.96295659,\n",
       "       0.47381874, 0.34768786, 0.24292766, 0.73594025, 0.13040161,\n",
       "       0.6492786 , 0.93671834, 0.13866973, 0.9884669 , 0.11503053,\n",
       "       0.59583576, 0.41403233, 0.38017734, 0.70044035, 0.99926281,\n",
       "       0.15650246, 0.24466029, 0.12490493, 0.45560304, 0.72077951,\n",
       "       0.7752863 , 0.18322595, 0.52867144, 0.83279069, 0.00816291,\n",
       "       0.85283042, 0.74523525, 0.52004647, 0.22469069, 0.1025275 ,\n",
       "       0.48113228, 0.23292606, 0.60038885, 0.85711179, 0.6636218 ,\n",
       "       0.01927417, 0.85827123, 0.48223919, 0.42155418, 0.33335447,\n",
       "       0.94839936, 0.2353883 , 0.01380104, 0.72430264, 0.68177359,\n",
       "       0.62919713, 0.30813318, 0.39669224, 0.72659794, 0.83302108,\n",
       "       0.03782599, 0.05706885, 0.45466115, 0.15107353, 0.02746304,\n",
       "       0.41105323, 0.61858937, 0.48178112, 0.68591933, 0.33067645,\n",
       "       0.97631974, 0.45889096, 0.29969475, 0.96933624, 0.90793366,\n",
       "       0.81182575, 0.93946623, 0.92059866, 0.92231686, 0.92808647,\n",
       "       0.72326383, 0.07890306, 0.82536256, 0.21917579, 0.18359828,\n",
       "       0.19422176, 0.46727581, 0.03967936, 0.37373968, 0.77536755,\n",
       "       0.46515356, 0.31695924, 0.58015538, 0.15903033, 0.44824353,\n",
       "       0.11200956, 0.42392907, 0.03391039, 0.27228361, 0.28977344,\n",
       "       0.14521147, 0.57090425, 0.60565489, 0.14832171, 0.16140483,\n",
       "       0.24951609, 0.40582273, 0.66922135, 0.450946  , 0.73635755,\n",
       "       0.88917462, 0.21916244, 0.53278673, 0.15609182, 0.87380132,\n",
       "       0.6150758 , 0.69125323, 0.85375417, 0.30982297, 0.79710325,\n",
       "       0.59249949, 0.09609579, 0.19990677, 0.91540084, 0.75670446,\n",
       "       0.98908004, 0.52880601, 0.53995642, 0.92556666, 0.60184799,\n",
       "       0.19078722, 0.47092415, 0.56020117, 0.73952417, 0.49328027,\n",
       "       0.9721697 , 0.40839677, 0.29554824, 0.34812136, 0.75212189,\n",
       "       0.79711343, 0.46954905, 0.83060012, 0.7628764 , 0.57541636,\n",
       "       0.98806156, 0.56460231, 0.04472088, 0.10468897, 0.34499615,\n",
       "       0.92168673, 0.16815995, 0.76874046, 0.71799807, 0.8904253 ,\n",
       "       0.74850561, 0.91608208, 0.4524158 , 0.81552108, 0.00183834,\n",
       "       0.37168829, 0.94765265, 0.35966144, 0.40998754, 0.77499197,\n",
       "       0.23190517, 0.15151778, 0.93928605, 0.98109322, 0.45421042,\n",
       "       0.99000506, 0.40884306, 0.81989865, 0.70769159, 0.16050499,\n",
       "       0.5589469 , 0.73242014, 0.99245844, 0.17219309, 0.58544223,\n",
       "       0.46914786, 0.84081206, 0.07258383, 0.29479573, 0.77110212,\n",
       "       0.07299328, 0.27931543, 0.62938924, 0.27398949, 0.72750834,\n",
       "       0.14275706, 0.64128885, 0.64104218, 0.12057555, 0.03653175,\n",
       "       0.10172577, 0.80199375, 0.93967543, 0.35410856, 0.25922858,\n",
       "       0.9509874 , 0.73843037, 0.65286563, 0.42692607, 0.07349503,\n",
       "       0.75586436, 0.59183812, 0.32337493, 0.94009998, 0.42772271,\n",
       "       0.98138917, 0.1048633 , 0.77904867, 0.7786095 , 0.89522804,\n",
       "       0.35459859, 0.98324208, 0.69564922, 0.80644147, 0.15982142,\n",
       "       0.23926767, 0.24699599, 0.07756366, 0.184762  , 0.64936724,\n",
       "       0.33057993, 0.39083633, 0.46150151, 0.4796499 , 0.77491761,\n",
       "       0.83720227])"
      ]
     },
     "execution_count": 27,
     "metadata": {},
     "output_type": "execute_result"
    }
   ],
   "source": [
    "big_matrix[0].data"
   ]
  },
  {
   "cell_type": "code",
   "execution_count": 38,
   "metadata": {},
   "outputs": [
    {
     "name": "stdout",
     "output_type": "stream",
     "text": [
      "Row-wise exploration of a CSR matrix takes 1.11 seconds\n"
     ]
    }
   ],
   "source": [
    "import time\n",
    "\n",
    "start_time = time.time()\n",
    "\n",
    "for row_index in range(big_matrix.shape[0]):\n",
    "    # Do somenting\n",
    "    useless_row = big_matrix[row_index]\n",
    "    \n",
    "print(\"Row-wise exploration of a CSR matrix takes {:.2f} seconds\".format(time.time()-start_time))"
   ]
  },
  {
   "cell_type": "code",
   "execution_count": 39,
   "metadata": {},
   "outputs": [
    {
     "name": "stdout",
     "output_type": "stream",
     "text": [
      "Row-wise exploration of a CSC matrix takes 39.47 seconds\n"
     ]
    }
   ],
   "source": [
    "big_matrix = big_matrix.tocsc()\n",
    "\n",
    "start_time = time.time()\n",
    "\n",
    "for row_index in range(big_matrix.shape[0]):\n",
    "    # Do somenting\n",
    "    useless_row = big_matrix[row_index]\n",
    "    \n",
    "print(\"Row-wise exploration of a CSC matrix takes {:.2f} seconds\".format(time.time()-start_time))"
   ]
  },
  {
   "cell_type": "markdown",
   "metadata": {},
   "source": [
    "### Ouch! There is a 40x difference\n",
    "\n",
    "#### It's very easy to waste a lot of time by using data structures in an incorrect way"
   ]
  },
  {
   "cell_type": "markdown",
   "metadata": {},
   "source": [
    "### Other example useful for speed critical code. We want the item indices seen by a user. \n",
    "#### The simple implementation would be the following. Users are rows and the items are columns"
   ]
  },
  {
   "cell_type": "code",
   "execution_count": 45,
   "metadata": {},
   "outputs": [
    {
     "data": {
      "text/plain": [
       "<100000x15000 sparse matrix of type '<class 'numpy.float64'>'\n",
       "\twith 15000000 stored elements in Compressed Sparse Row format>"
      ]
     },
     "execution_count": 45,
     "metadata": {},
     "output_type": "execute_result"
    }
   ],
   "source": [
    "URM = random(100000, 15000, density=0.01, format='csr')\n",
    "URM"
   ]
  },
  {
   "cell_type": "code",
   "execution_count": 46,
   "metadata": {},
   "outputs": [
    {
     "name": "stdout",
     "output_type": "stream",
     "text": [
      "Extracting user seen items takes 6.17 seconds\n"
     ]
    }
   ],
   "source": [
    "start_time = time.time()\n",
    "\n",
    "for user_id in range(URM.shape[0]):\n",
    "    # Do somenting\n",
    "    user_seen_items = URM[user_id].indices\n",
    "    \n",
    "print(\"Extracting user seen items takes {:.2f} seconds\".format(time.time()-start_time))"
   ]
  },
  {
   "cell_type": "code",
   "execution_count": 47,
   "metadata": {},
   "outputs": [
    {
     "name": "stdout",
     "output_type": "stream",
     "text": [
      "Extracting user seen items directly from inner data structure takes 0.07 seconds\n"
     ]
    }
   ],
   "source": [
    "start_time = time.time()\n",
    "\n",
    "for user_id in range(URM.shape[0]):\n",
    "    # Do somenting\n",
    "    user_seen_items = URM.indices[URM.indptr[user_id]:URM.indptr[user_id+1]]\n",
    "    \n",
    "print(\"Extracting user seen items directly from inner data structure takes {:.2f} seconds\".format(time.time()-start_time))"
   ]
  },
  {
   "cell_type": "markdown",
   "metadata": {},
   "source": [
    "### Even for this simple operation there is a >80x speed difference. Why?\n",
    "\n",
    "#### Let's see what the first version of the code does...\n",
    "\n",
    "#### Step 1 - slicing row"
   ]
  },
  {
   "cell_type": "code",
   "execution_count": 48,
   "metadata": {},
   "outputs": [
    {
     "data": {
      "text/plain": [
       "<1x15000 sparse matrix of type '<class 'numpy.float64'>'\n",
       "\twith 152 stored elements in Compressed Sparse Row format>"
      ]
     },
     "execution_count": 48,
     "metadata": {},
     "output_type": "execute_result"
    }
   ],
   "source": [
    "user_id = 5\n",
    "user_row = URM[user_id]\n",
    "user_row"
   ]
  },
  {
   "cell_type": "markdown",
   "metadata": {},
   "source": [
    "#### Step 2 - get column indices"
   ]
  },
  {
   "cell_type": "code",
   "execution_count": 49,
   "metadata": {},
   "outputs": [
    {
     "data": {
      "text/plain": [
       "array([  105,   391,   433,   707,  1061,  1169,  1269,  1302,  1512,\n",
       "        1606,  1667,  1671,  1780,  2183,  2381,  2474,  2523,  2675,\n",
       "        2682,  2781,  3014,  3244,  3301,  3318,  3646,  3759,  3920,\n",
       "        3946,  4024,  4122,  4166,  4252,  4278,  4285,  4286,  4326,\n",
       "        4577,  4586,  4603,  4770,  4785,  4804,  4834,  4839,  4858,\n",
       "        4871,  4913,  5024,  5041,  5115,  5202,  5297,  5489,  5549,\n",
       "        5696,  5706,  5761,  5767,  5827,  5855,  5863,  5966,  6035,\n",
       "        6116,  6216,  6330,  6340,  6359,  6387,  6509,  6581,  6669,\n",
       "        6854,  6860,  6907,  6918,  6985,  7002,  7018,  7400,  7536,\n",
       "        8007,  8135,  8209,  8296,  8303,  8573,  8810,  8812,  8891,\n",
       "        8901,  9094,  9120,  9134,  9356,  9414,  9465,  9487,  9554,\n",
       "        9562,  9702,  9977,  9988, 10267, 10293, 10333, 10374, 10396,\n",
       "       10490, 10634, 10687, 10724, 10980, 11013, 11124, 11183, 11334,\n",
       "       11513, 11622, 11804, 11879, 12142, 12194, 12224, 12296, 12333,\n",
       "       12407, 12567, 12593, 12595, 12703, 12774, 12925, 13520, 13617,\n",
       "       13729, 13756, 13757, 13917, 13945, 13998, 14144, 14178, 14183,\n",
       "       14282, 14293, 14339, 14732, 14739, 14941, 14977, 14999], dtype=int32)"
      ]
     },
     "execution_count": 49,
     "metadata": {},
     "output_type": "execute_result"
    }
   ],
   "source": [
    "user_seen_items = user_row.indices\n",
    "user_seen_items"
   ]
  },
  {
   "cell_type": "markdown",
   "metadata": {},
   "source": [
    "### The reason for the big performance loss is that in this way we are building a new sparse matrix for each user. We don't need the matrix itself, only one of its attributes"
   ]
  },
  {
   "cell_type": "markdown",
   "metadata": {},
   "source": [
    "## Further reading"
   ]
  },
  {
   "cell_type": "markdown",
   "metadata": {},
   "source": [
    "* http://www.scipy.org - The official web page for the SciPy project.\n",
    "* http://docs.scipy.org/doc/scipy/reference/tutorial/index.html - A tutorial on how to get started using SciPy. \n",
    "* https://github.com/scipy/scipy/ - The SciPy source code. "
   ]
  },
  {
   "cell_type": "code",
   "execution_count": null,
   "metadata": {
    "collapsed": true
   },
   "outputs": [],
   "source": []
  },
  {
   "cell_type": "code",
   "execution_count": null,
   "metadata": {
    "collapsed": true
   },
   "outputs": [],
   "source": []
  }
 ],
 "metadata": {
  "kernelspec": {
   "display_name": "Python 3",
   "language": "python",
   "name": "python3"
  },
  "language_info": {
   "codemirror_mode": {
    "name": "ipython",
    "version": 3
   },
   "file_extension": ".py",
   "mimetype": "text/x-python",
   "name": "python",
   "nbconvert_exporter": "python",
   "pygments_lexer": "ipython3",
   "version": "3.6.7rc1"
  }
 },
 "nbformat": 4,
 "nbformat_minor": 1
}
